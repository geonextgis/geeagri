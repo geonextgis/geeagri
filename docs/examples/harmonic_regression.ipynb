{
 "cells": [
  {
   "cell_type": "markdown",
   "metadata": {},
   "source": [
    "## Import Dependencies"
   ]
  },
  {
   "cell_type": "code",
   "execution_count": 36,
   "metadata": {},
   "outputs": [
    {
     "data": {
      "text/html": [
       "\n",
       "            <style>\n",
       "                .geemap-dark {\n",
       "                    --jp-widgets-color: white;\n",
       "                    --jp-widgets-label-color: white;\n",
       "                    --jp-ui-font-color1: white;\n",
       "                    --jp-layout-color2: #454545;\n",
       "                    background-color: #383838;\n",
       "                }\n",
       "\n",
       "                .geemap-dark .jupyter-button {\n",
       "                    --jp-layout-color3: #383838;\n",
       "                }\n",
       "\n",
       "                .geemap-colab {\n",
       "                    background-color: var(--colab-primary-surface-color, white);\n",
       "                }\n",
       "\n",
       "                .geemap-colab .jupyter-button {\n",
       "                    --jp-layout-color3: var(--colab-primary-surface-color, white);\n",
       "                }\n",
       "            </style>\n",
       "            "
      ],
      "text/plain": [
       "<IPython.core.display.HTML object>"
      ]
     },
     "metadata": {},
     "output_type": "display_data"
    }
   ],
   "source": [
    "import pandas as pd\n",
    "import matplotlib.pyplot as plt\n",
    "import ee\n",
    "import geemap\n",
    "import math\n",
    "from geeagri.timeseries import HarmonicRegression, extract_timeseries_to_point"
   ]
  },
  {
   "cell_type": "markdown",
   "metadata": {},
   "source": [
    "## Authenticate and Initialize Earth Engine"
   ]
  },
  {
   "cell_type": "code",
   "execution_count": 2,
   "metadata": {},
   "outputs": [
    {
     "data": {
      "text/html": [
       "\n",
       "            <style>\n",
       "                .geemap-dark {\n",
       "                    --jp-widgets-color: white;\n",
       "                    --jp-widgets-label-color: white;\n",
       "                    --jp-ui-font-color1: white;\n",
       "                    --jp-layout-color2: #454545;\n",
       "                    background-color: #383838;\n",
       "                }\n",
       "\n",
       "                .geemap-dark .jupyter-button {\n",
       "                    --jp-layout-color3: #383838;\n",
       "                }\n",
       "\n",
       "                .geemap-colab {\n",
       "                    background-color: var(--colab-primary-surface-color, white);\n",
       "                }\n",
       "\n",
       "                .geemap-colab .jupyter-button {\n",
       "                    --jp-layout-color3: var(--colab-primary-surface-color, white);\n",
       "                }\n",
       "            </style>\n",
       "            "
      ],
      "text/plain": [
       "<IPython.core.display.HTML object>"
      ]
     },
     "metadata": {},
     "output_type": "display_data"
    }
   ],
   "source": [
    "ee.Authenticate()\n",
    "ee.Initialize()"
   ]
  },
  {
   "cell_type": "markdown",
   "metadata": {},
   "source": [
    "## Instantiate a Map Object and ROI"
   ]
  },
  {
   "cell_type": "code",
   "execution_count": 3,
   "metadata": {},
   "outputs": [
    {
     "data": {
      "text/html": [
       "\n",
       "            <style>\n",
       "                .geemap-dark {\n",
       "                    --jp-widgets-color: white;\n",
       "                    --jp-widgets-label-color: white;\n",
       "                    --jp-ui-font-color1: white;\n",
       "                    --jp-layout-color2: #454545;\n",
       "                    background-color: #383838;\n",
       "                }\n",
       "\n",
       "                .geemap-dark .jupyter-button {\n",
       "                    --jp-layout-color3: #383838;\n",
       "                }\n",
       "\n",
       "                .geemap-colab {\n",
       "                    background-color: var(--colab-primary-surface-color, white);\n",
       "                }\n",
       "\n",
       "                .geemap-colab .jupyter-button {\n",
       "                    --jp-layout-color3: var(--colab-primary-surface-color, white);\n",
       "                }\n",
       "            </style>\n",
       "            "
      ],
      "text/plain": [
       "<IPython.core.display.HTML object>"
      ]
     },
     "metadata": {},
     "output_type": "display_data"
    },
    {
     "data": {
      "application/vnd.jupyter.widget-view+json": {
       "model_id": "19c0f661b4e04878849cf0bd4efc7e66",
       "version_major": 2,
       "version_minor": 0
      },
      "text/plain": [
       "Map(center=[0, 0], controls=(WidgetControl(options=['position', 'transparent_bg'], position='topright', transp…"
      ]
     },
     "execution_count": 3,
     "metadata": {},
     "output_type": "execute_result"
    }
   ],
   "source": [
    "Map = geemap.Map(height=400, basemap='SATELLITE')\n",
    "Map"
   ]
  },
  {
   "cell_type": "code",
   "execution_count": 4,
   "metadata": {},
   "outputs": [
    {
     "data": {
      "text/html": [
       "\n",
       "            <style>\n",
       "                .geemap-dark {\n",
       "                    --jp-widgets-color: white;\n",
       "                    --jp-widgets-label-color: white;\n",
       "                    --jp-ui-font-color1: white;\n",
       "                    --jp-layout-color2: #454545;\n",
       "                    background-color: #383838;\n",
       "                }\n",
       "\n",
       "                .geemap-dark .jupyter-button {\n",
       "                    --jp-layout-color3: #383838;\n",
       "                }\n",
       "\n",
       "                .geemap-colab {\n",
       "                    background-color: var(--colab-primary-surface-color, white);\n",
       "                }\n",
       "\n",
       "                .geemap-colab .jupyter-button {\n",
       "                    --jp-layout-color3: var(--colab-primary-surface-color, white);\n",
       "                }\n",
       "            </style>\n",
       "            "
      ],
      "text/plain": [
       "<IPython.core.display.HTML object>"
      ]
     },
     "metadata": {},
     "output_type": "display_data"
    }
   ],
   "source": [
    "# Import area of interest\n",
    "bbox = [-120.398369, 37.006574, -120.208168, 37.101924] # USA\n",
    "\n",
    "aoi = ee.Geometry.BBox(*bbox)\n",
    "\n",
    "aoi_style = {\n",
    "        'width': 1,\n",
    "        'color': 'red',\n",
    "        'opacity': 0.5\n",
    "}\n",
    "\n",
    "Map.addLayer(aoi, aoi_style, 'AOI')\n",
    "Map.centerObject(aoi, 13)"
   ]
  },
  {
   "cell_type": "markdown",
   "metadata": {},
   "source": [
    "## Define Configurations"
   ]
  },
  {
   "cell_type": "code",
   "execution_count": 6,
   "metadata": {},
   "outputs": [
    {
     "data": {
      "text/html": [
       "\n",
       "            <style>\n",
       "                .geemap-dark {\n",
       "                    --jp-widgets-color: white;\n",
       "                    --jp-widgets-label-color: white;\n",
       "                    --jp-ui-font-color1: white;\n",
       "                    --jp-layout-color2: #454545;\n",
       "                    background-color: #383838;\n",
       "                }\n",
       "\n",
       "                .geemap-dark .jupyter-button {\n",
       "                    --jp-layout-color3: #383838;\n",
       "                }\n",
       "\n",
       "                .geemap-colab {\n",
       "                    background-color: var(--colab-primary-surface-color, white);\n",
       "                }\n",
       "\n",
       "                .geemap-colab .jupyter-button {\n",
       "                    --jp-layout-color3: var(--colab-primary-surface-color, white);\n",
       "                }\n",
       "            </style>\n",
       "            "
      ],
      "text/plain": [
       "<IPython.core.display.HTML object>"
      ]
     },
     "metadata": {},
     "output_type": "display_data"
    }
   ],
   "source": [
    "START_DATE = '2022-10-01'\n",
    "END_DATE = '2023-07-30'\n",
    "CLOUD_FILTER = 60\n",
    "CLOUD_PRB_THRESH = 10\n",
    "SNOW_PRB_THRESH = 10"
   ]
  },
  {
   "cell_type": "markdown",
   "metadata": {},
   "source": [
    "## Masking Clouds and Computing GCVI from Sentinel-2 Data\n",
    "In this section, we prepare Sentinel-2 imagery for analysis by applying cloud and shadow masks, then compute the Green Chlorophyll Vegetation Index (GCVI) to highlight vegetation patterns. Finally, we visualize a clean median composite of the GCVI.\n",
    "\n",
    "* **addMask**: Removes pixels affected by clouds, shadows, snow, saturation, and cirrus, using Sentinel-2 quality bands and user-defined thresholds.\n",
    "* **addVIs**: Calculates the GCVI, useful for analyzing vegetation vigor and chlorophyll content.\n",
    "* The filtered `ImageCollection` is reduced to a median composite, which helps create a stable, cloud-free view of vegetation over the selected time period."
   ]
  },
  {
   "cell_type": "code",
   "execution_count": 7,
   "metadata": {},
   "outputs": [
    {
     "data": {
      "text/html": [
       "\n",
       "            <style>\n",
       "                .geemap-dark {\n",
       "                    --jp-widgets-color: white;\n",
       "                    --jp-widgets-label-color: white;\n",
       "                    --jp-ui-font-color1: white;\n",
       "                    --jp-layout-color2: #454545;\n",
       "                    background-color: #383838;\n",
       "                }\n",
       "\n",
       "                .geemap-dark .jupyter-button {\n",
       "                    --jp-layout-color3: #383838;\n",
       "                }\n",
       "\n",
       "                .geemap-colab {\n",
       "                    background-color: var(--colab-primary-surface-color, white);\n",
       "                }\n",
       "\n",
       "                .geemap-colab .jupyter-button {\n",
       "                    --jp-layout-color3: var(--colab-primary-surface-color, white);\n",
       "                }\n",
       "            </style>\n",
       "            "
      ],
      "text/plain": [
       "<IPython.core.display.HTML object>"
      ]
     },
     "metadata": {},
     "output_type": "display_data"
    }
   ],
   "source": [
    "# Functions to mask out clouds, shadows, and other unwanted features\n",
    "def addMask(img):\n",
    "    cloud_prob = img.select('MSK_CLDPRB')\n",
    "    snow_prob = img.select('MSK_SNWPRB')\n",
    "    scl = img.select('SCL')\n",
    "    shadow = scl.eq(3)\n",
    "    saturated = scl.eq(1)\n",
    "    cirrus = scl.eq(10)\n",
    "\n",
    "    cloud_mask = cloud_prob.lt(CLOUD_PRB_THRESH)\n",
    "    snow_mask = snow_prob.lt(SNOW_PRB_THRESH)\n",
    "\n",
    "    mask = cloud_mask.And(snow_mask).And(shadow.neq(1))\\\n",
    "                     .And(saturated.neq(1)).And(cirrus.neq(1))\n",
    "\n",
    "    return img.updateMask(mask)\n",
    "\n",
    "# Function to add GCVI as a band\n",
    "def addVIs(img):\n",
    "    gcvi = img.expression(\n",
    "        '(NIR / Green) - 1',\n",
    "        {'NIR': img.select('B8'), 'Green': img.select('B3')}\n",
    "    ).rename('GCVI')\n",
    "    return ee.Image.cat([img, gcvi])\n",
    "\n",
    "# Build and process the ImageCollection\n",
    "s2_sr_harmonized = ee.ImageCollection(\"COPERNICUS/S2_SR_HARMONIZED\")\\\n",
    "    .filterBounds(aoi)\\\n",
    "    .filterDate(START_DATE, END_DATE)\\\n",
    "    .filter(ee.Filter.lt('CLOUDY_PIXEL_PERCENTAGE', CLOUD_FILTER))\\\n",
    "    .map(addMask)\\\n",
    "    .map(addVIs)\\\n",
    "    .select('GCVI')\\\n",
    "    .sort('system:time_start')\n",
    "\n",
    "# Display the median GCVI composite\n",
    "gcvi_composite = s2_sr_harmonized.median().clip(aoi)\n",
    "gcvi_vis_params = {\n",
    "    'palette': ['#a50026', '#f46d43', '#fee08b', '#d9ef8b', '#66bd63', '#006837'],\n",
    "    'min': 0,\n",
    "    'max': 4\n",
    "}\n",
    "Map.addLayer(gcvi_composite, gcvi_vis_params, 'GCVI Composite')"
   ]
  },
  {
   "cell_type": "markdown",
   "metadata": {},
   "source": [
    "## Harmonic Regression"
   ]
  },
  {
   "cell_type": "code",
   "execution_count": 42,
   "metadata": {},
   "outputs": [
    {
     "data": {
      "text/html": [
       "\n",
       "            <style>\n",
       "                .geemap-dark {\n",
       "                    --jp-widgets-color: white;\n",
       "                    --jp-widgets-label-color: white;\n",
       "                    --jp-ui-font-color1: white;\n",
       "                    --jp-layout-color2: #454545;\n",
       "                    background-color: #383838;\n",
       "                }\n",
       "\n",
       "                .geemap-dark .jupyter-button {\n",
       "                    --jp-layout-color3: #383838;\n",
       "                }\n",
       "\n",
       "                .geemap-colab {\n",
       "                    background-color: var(--colab-primary-surface-color, white);\n",
       "                }\n",
       "\n",
       "                .geemap-colab .jupyter-button {\n",
       "                    --jp-layout-color3: var(--colab-primary-surface-color, white);\n",
       "                }\n",
       "            </style>\n",
       "            "
      ],
      "text/plain": [
       "<IPython.core.display.HTML object>"
      ]
     },
     "metadata": {},
     "output_type": "display_data"
    }
   ],
   "source": [
    "import math\n",
    "import ee\n",
    "\n",
    "class HarmonicRegression:\n",
    "    \"\"\"\n",
    "    Perform harmonic regression on an Earth Engine ImageCollection.\n",
    "\n",
    "    Attributes:\n",
    "        image_collection (ee.ImageCollection): Input time series of selected band.\n",
    "        ref_date (ee.Date): Reference date to calculate time.\n",
    "        band (str): Name of dependent variable band.\n",
    "        order (int): Number of harmonics.\n",
    "        omega (float): Base frequency multiplier.\n",
    "        independents (List[str]): Names of independent variable bands.\n",
    "        composite (ee.Image): Median composite of the selected band.\n",
    "    \"\"\"\n",
    "    def __init__(self, image_collection, ref_date, band_name, order=1, omega=1):\n",
    "        \"\"\"\n",
    "        Initialize the HarmonicRegression object.\n",
    "\n",
    "        Args:\n",
    "            image_collection (ee.ImageCollection): Input image collection.\n",
    "            ref_date (str or ee.Date): Reference date to compute relative time.\n",
    "            band_name (str): Name of dependent variable band.\n",
    "            order (int): Number of harmonics (default 1).\n",
    "            omega (float): Base frequency multiplier (default 1).\n",
    "        \"\"\"\n",
    "        self.image_collection = image_collection.select(band_name)\n",
    "        self.ref_date = ee.Date(ref_date) if isinstance(ref_date, str) else ref_date\n",
    "        self.band = band_name\n",
    "        self.order = order\n",
    "        self.omega = omega\n",
    "\n",
    "        # Names of independent variables: constant, cos_1, ..., sin_1, ...\n",
    "        self.independents = (\n",
    "            ['constant'] +\n",
    "            [f'cos_{i}' for i in range(1, order + 1)] +\n",
    "            [f'sin_{i}' for i in range(1, order + 1)]\n",
    "        )\n",
    "\n",
    "        # Precompute median composite of the selected band\n",
    "        self.composite = self.image_collection.median()\n",
    "\n",
    "    def _add_time_unit(self, image):\n",
    "        \"\"\"\n",
    "        Add time difference in years from ref_date as band 't'.\n",
    "\n",
    "        Args:\n",
    "            image (ee.Image): Input image.\n",
    "\n",
    "        Returns:\n",
    "            ee.Image: Image with additional 't' band.\n",
    "        \"\"\"\n",
    "        dyear = ee.Number(image.date().difference(self.ref_date, 'year'))\n",
    "        return image.addBands(ee.Image.constant(dyear).rename('t').float())\n",
    "\n",
    "    def _add_harmonics(self, image):\n",
    "        \"\"\"\n",
    "        Add harmonic basis functions: constant, cos_i, sin_i bands.\n",
    "\n",
    "        Args:\n",
    "            image (ee.Image): Input image.\n",
    "\n",
    "        Returns:\n",
    "            ee.Image: Image with added harmonic bands.\n",
    "        \"\"\"\n",
    "        image = self._add_time_unit(image)\n",
    "        t = image.select('t')\n",
    "\n",
    "        harmonic_bands = [ee.Image.constant(1).rename('constant')]\n",
    "        for i in range(1, self.order + 1):\n",
    "            freq = ee.Number(i).multiply(self.omega).multiply(2 * math.pi)\n",
    "            harmonic_bands.append(t.multiply(freq).cos().rename(f'cos_{i}'))\n",
    "            harmonic_bands.append(t.multiply(freq).sin().rename(f'sin_{i}'))\n",
    "\n",
    "        return image.addBands(ee.Image(harmonic_bands))\n",
    "\n",
    "    def get_harmonic_coeffs(self):\n",
    "        \"\"\"\n",
    "        Fit harmonic regression and return coefficients image.\n",
    "\n",
    "        Returns:\n",
    "            ee.Image: Coefficients image with bands like <band>_constant, <band>_cos_1, etc.\n",
    "        \"\"\"\n",
    "        harmonic_coll = self.image_collection.map(self._add_harmonics)\n",
    "\n",
    "        regression = harmonic_coll.select(self.independents + [self.band]) \\\n",
    "            .reduce(ee.Reducer.linearRegression(len(self.independents), 1))\n",
    "\n",
    "        coeffs = regression.select('coefficients') \\\n",
    "            .arrayProject([0]) \\\n",
    "            .arrayFlatten([self.independents]) \\\n",
    "            .multiply(10000).toInt32()\n",
    "\n",
    "        new_names = [f'{self.band}_{name}' for name in self.independents]\n",
    "        return coeffs.rename(new_names)\n",
    "\n",
    "    def get_phase_amplitude(self, harmonic_coeffs, cos_band, sin_band, stretch_factor=1, return_rgb=True):\n",
    "        \"\"\"\n",
    "        Compute phase & amplitude and optionally create RGB visualization.\n",
    "\n",
    "        Args:\n",
    "            harmonic_coeffs (ee.Image): Coefficients image from get_harmonic_coeffs().\n",
    "            cos_band (str): Name of cosine coefficient band.\n",
    "            sin_band (str): Name of sine coefficient band.\n",
    "            stretch_factor (float): Stretch amplitude to enhance contrast.\n",
    "            return_rgb (bool): If True, return RGB image; else return HSV image.\n",
    "\n",
    "        Returns:\n",
    "            ee.Image: RGB visualization (uint8) or HSV image.\n",
    "        \"\"\"\n",
    "        phase = harmonic_coeffs.select(cos_band).atan2(harmonic_coeffs.select(sin_band))\n",
    "        amplitude = harmonic_coeffs.select(cos_band).hypot(harmonic_coeffs.select(sin_band))\n",
    "\n",
    "        hsv = phase.unitScale(-math.pi, math.pi) \\\n",
    "            .addBands(amplitude.multiply(stretch_factor)) \\\n",
    "            .addBands(self.composite)\n",
    "\n",
    "        if return_rgb:\n",
    "            return hsv.hsvToRgb().unitScale(0, 1).multiply(255).toByte()\n",
    "        else:\n",
    "            return hsv\n",
    "\n",
    "    def _fit_harmonics(self, harmonic_coeffs, image):\n",
    "        \"\"\"\n",
    "        Compute fitted values from harmonic coefficients and harmonic bands.\n",
    "\n",
    "        Args:\n",
    "            harmonic_coeffs (ee.Image): Coefficients image divided by 10000.\n",
    "            image (ee.Image): Image with harmonic bands.\n",
    "\n",
    "        Returns:\n",
    "            ee.Image: Image with fitted values.\n",
    "        \"\"\"\n",
    "        return image.select(self.independents) \\\n",
    "            .multiply(harmonic_coeffs) \\\n",
    "            .reduce('sum') \\\n",
    "            .rename('fitted')\\\n",
    "            .copyProperties(image, ['system:time_start'])\n",
    "\n",
    "    def get_fitted_harmonics(self, harmonic_coeffs):\n",
    "        \"\"\"\n",
    "        Compute fitted harmonic time series over the collection.\n",
    "\n",
    "        Args:\n",
    "            harmonic_coeffs (ee.Image): Coefficients image from get_harmonic_coeffs().\n",
    "\n",
    "        Returns:\n",
    "            ee.ImageCollection: Collection with fitted harmonic value as 'fitted' band.\n",
    "        \"\"\"\n",
    "        harmonic_coeffs_scaled = harmonic_coeffs.divide(10000)\n",
    "        harmonic_coll = self.image_collection.map(self._add_harmonics)\n",
    "\n",
    "        return harmonic_coll.map(lambda img: self._fit_harmonics(harmonic_coeffs_scaled, img))\n",
    "\n",
    "\n",
    "    def plot_fitted_harmonics(self, lon, lat, fitted_harmonic, scale=30):\n",
    "        \"\"\"\n",
    "        Plot time series of observed and fitted harmonic values at a given point.\n",
    "\n",
    "        Args:\n",
    "            lon (float): Longitude of the point.\n",
    "            lat (float): Latitude of the point.\n",
    "            fitted_harmonic (ee.ImageCollection): Collection with 'fitted' band.\n",
    "            scale (int): Scale in meters to extract pixel value (default 30).\n",
    "\n",
    "        Returns:\n",
    "            pandas.DataFrame: Merged dataframe of observed and fitted values.\n",
    "        \"\"\"\n",
    "        # Extract time series at the point\n",
    "        band_ts = extract_timeseries_to_point(\n",
    "            lat, lon, self.image_collection, scale=scale\n",
    "        )\n",
    "\n",
    "        fitted_ts = extract_timeseries_to_point(\n",
    "            lat, lon, fitted_harmonic, scale=scale\n",
    "        )\n",
    "\n",
    "        # Check if both time series align by date\n",
    "        if band_ts.shape == fitted_ts.shape and all(band_ts.index == fitted_ts.index):\n",
    "            merged_df = band_ts.copy()\n",
    "            merged_df['fitted'] = fitted_ts['fitted']\n",
    "        else:\n",
    "            # Merge on index (which should be date) just in case\n",
    "            merged_df = band_ts.merge(\n",
    "                fitted_ts, left_index=True, right_index=True, suffixes=('_observed', '_fitted')\n",
    "            )\n",
    "\n",
    "        # Plot\n",
    "        plt.figure(figsize=(10, 5))\n",
    "        plt.plot(merged_df.index, merged_df.iloc[:, -2], label='Observed', marker='o', color='blue')\n",
    "        plt.plot(merged_df.index, merged_df['fitted'], label='Fitted', marker='o', color='red')\n",
    "        plt.title('Observed vs. Fitted Harmonic Time Series')\n",
    "        plt.xlabel('Date')\n",
    "        plt.ylabel(self.band)\n",
    "        plt.legend()\n",
    "        plt.grid(True)\n",
    "        plt.tight_layout()\n",
    "        plt.show()\n",
    "\n",
    "        return merged_df"
   ]
  },
  {
   "cell_type": "code",
   "execution_count": 44,
   "metadata": {},
   "outputs": [
    {
     "data": {
      "text/html": [
       "\n",
       "            <style>\n",
       "                .geemap-dark {\n",
       "                    --jp-widgets-color: white;\n",
       "                    --jp-widgets-label-color: white;\n",
       "                    --jp-ui-font-color1: white;\n",
       "                    --jp-layout-color2: #454545;\n",
       "                    background-color: #383838;\n",
       "                }\n",
       "\n",
       "                .geemap-dark .jupyter-button {\n",
       "                    --jp-layout-color3: #383838;\n",
       "                }\n",
       "\n",
       "                .geemap-colab {\n",
       "                    background-color: var(--colab-primary-surface-color, white);\n",
       "                }\n",
       "\n",
       "                .geemap-colab .jupyter-button {\n",
       "                    --jp-layout-color3: var(--colab-primary-surface-color, white);\n",
       "                }\n",
       "            </style>\n",
       "            "
      ],
      "text/plain": [
       "<IPython.core.display.HTML object>"
      ]
     },
     "metadata": {},
     "output_type": "display_data"
    }
   ],
   "source": [
    "harmonic = HarmonicRegression(\n",
    "    image_collection=s2_sr_harmonized, \n",
    "    ref_date=START_DATE, \n",
    "    band_name='GCVI',\n",
    "    order=1, \n",
    "    omega=1\n",
    ")\n",
    "\n",
    "harmonic_coeffs = harmonic.get_harmonic_coeffs().clip(aoi)\n",
    "harmonic_rgb = harmonic.get_phase_amplitude(\n",
    "    harmonic_coeffs,\n",
    "    cos_band='GCVI_cos_1',\n",
    "    sin_band = 'GCVI_sin_1'\n",
    ")\n",
    "harmonic_fitted = harmonic.get_fitted_harmonics(harmonic_coeffs)  \n",
    "\n",
    "Map.addLayer(harmonic_coeffs, {}, 'Harmonics Coeffs')\n",
    "Map.addLayer(harmonic_rgb, {min:0, max:255}, 'Harmonics RGB')"
   ]
  },
  {
   "cell_type": "code",
   "execution_count": 45,
   "metadata": {},
   "outputs": [
    {
     "data": {
      "text/html": [
       "\n",
       "            <style>\n",
       "                .geemap-dark {\n",
       "                    --jp-widgets-color: white;\n",
       "                    --jp-widgets-label-color: white;\n",
       "                    --jp-ui-font-color1: white;\n",
       "                    --jp-layout-color2: #454545;\n",
       "                    background-color: #383838;\n",
       "                }\n",
       "\n",
       "                .geemap-dark .jupyter-button {\n",
       "                    --jp-layout-color3: #383838;\n",
       "                }\n",
       "\n",
       "                .geemap-colab {\n",
       "                    background-color: var(--colab-primary-surface-color, white);\n",
       "                }\n",
       "\n",
       "                .geemap-colab .jupyter-button {\n",
       "                    --jp-layout-color3: var(--colab-primary-surface-color, white);\n",
       "                }\n",
       "            </style>\n",
       "            "
      ],
      "text/plain": [
       "<IPython.core.display.HTML object>"
      ]
     },
     "metadata": {},
     "output_type": "display_data"
    },
    {
     "data": {
      "image/png": "[encoded data removed]",
      "text/plain": [
       "<Figure size 1000x500 with 1 Axes>"
      ]
     },
     "metadata": {},
     "output_type": "display_data"
    }
   ],
   "source": [
    "lon = -120.33 \n",
    "lat = 37.06\n",
    "\n",
    "merged_df = harmonic.plot_fitted_harmonics(lon, lat, harmonic_fitted, scale=10)"
   ]
  }
 ],
 "metadata": {
  "kernelspec": {
   "display_name": "geo",
   "language": "python",
   "name": "geo"
  },
  "language_info": {
   "codemirror_mode": {
    "name": "ipython",
    "version": 3
   },
   "file_extension": ".py",
   "mimetype": "text/x-python",
   "name": "python",
   "nbconvert_exporter": "python",
   "pygments_lexer": "ipython3",
   "version": "3.12.11"
  }
 },
 "nbformat": 4,
 "nbformat_minor": 2
}
