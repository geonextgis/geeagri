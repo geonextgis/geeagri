{
 "cells": [
  {
   "cell_type": "markdown",
   "id": "0",
   "metadata": {},
   "source": [
    "# Harmonic Regression Analysis with geeagri\n",
    "\n",
    "This notebook demonstrates how to use the `HarmonicRegression` class in geeagri to analyze time series data from satellite imagery using Google Earth Engine."
   ]
  },
  {
   "cell_type": "markdown",
   "id": "1",
   "metadata": {},
   "source": [
    "## Setup and Imports\n",
    "Install geeagri if needed and import required libraries."
   ]
  },
  {
   "cell_type": "code",
   "execution_count": null,
   "id": "2",
   "metadata": {},
   "outputs": [],
   "source": [
    "# !pip install geeagri\n",
    "import ee\n",
    "import geeagri\n",
    "from geeagri.timeseries import HarmonicRegression\n",
    "import matplotlib.pyplot as plt\n",
    "import pandas as pd"
   ]
  },
  {
   "cell_type": "code",
   "execution_count": null,
   "id": "3",
   "metadata": {},
   "outputs": [],
   "source": [
    "ee.Authenticate()\n",
    "ee.Initialize()"
   ]
  },
  {
   "cell_type": "markdown",
   "id": "4",
   "metadata": {},
   "source": [
    "## Select Region and Data\n",
    "Define a point of interest and select an image collection and band for analysis."
   ]
  },
  {
   "cell_type": "code",
   "execution_count": null,
   "id": "5",
   "metadata": {},
   "outputs": [],
   "source": [
    "lat, lon = 37.0510, -120.3022  # Example: Central California\n",
    "point = ee.Geometry.Point([lon, lat])\n",
    "\n",
    "collection = ee.ImageCollection(\"MODIS/061/MOD13Q1\")\n",
    "band = \"NDVI\"\n",
    "start_date = \"2015-01-01\"\n",
    "end_date = \"2017-01-01\"\n",
    "scale = 250"
   ]
  },
  {
   "cell_type": "markdown",
   "id": "6",
   "metadata": {},
   "source": [
    "## Extract Time Series\n",
    "Extract the NDVI time series for the selected point."
   ]
  },
  {
   "cell_type": "code",
   "execution_count": null,
   "id": "7",
   "metadata": {},
   "outputs": [],
   "source": [
    "df = geeagri.extract_timeseries_to_point(\n",
    "    lat, lon, collection, start_date, end_date, band_names=[band], scale=scale\n",
    ")\n",
    "df[\"NDVI\"] = df[\"NDVI\"] * 0.0001  # Apply scale factor for MODIS NDVI\n",
    "df.head()"
   ]
  },
  {
   "cell_type": "markdown",
   "id": "8",
   "metadata": {},
   "source": [
    "## Fit Harmonic Regression\n",
    "Create a HarmonicRegression object and fit the model to the NDVI time series."
   ]
  },
  {
   "cell_type": "code",
   "execution_count": null,
   "id": "9",
   "metadata": {},
   "outputs": [],
   "source": [
    "ref_date = start_date\n",
    "order = 2  # Number of harmonics\n",
    "hr = HarmonicRegression(collection, ref_date, band, order=order)\n",
    "harmonic_coeffs = hr.get_harmonic_coeffs()"
   ]
  },
  {
   "cell_type": "markdown",
   "id": "10",
   "metadata": {},
   "source": [
    "## Visualize Fitted Harmonics\n",
    "Compute and plot the fitted harmonic time series alongside the original NDVI data."
   ]
  },
  {
   "cell_type": "code",
   "execution_count": null,
   "id": "11",
   "metadata": {},
   "outputs": [],
   "source": [
    "fitted_coll = hr.get_fitted_harmonics(harmonic_coeffs)\n",
    "# Extract fitted values at the point\n",
    "fitted_list = fitted_coll.getRegion(point, scale=scale).getInfo()\n",
    "fitted_df = pd.DataFrame(fitted_list[1:], columns=fitted_list[0])\n",
    "fitted_df[\"time\"] = pd.to_datetime(fitted_df[\"time\"], unit=\"ms\")\n",
    "fitted_df = fitted_df[[\"time\", \"fitted\"]].dropna()\n",
    "# Merge with original NDVI\n",
    "merged = pd.merge(df, fitted_df, on=\"time\", how=\"inner\")\n",
    "plt.figure(figsize=(10, 5))\n",
    "plt.plot(merged[\"time\"], merged[\"NDVI\"], label=\"Observed NDVI\", marker=\"o\")\n",
    "plt.plot(merged[\"time\"], merged[\"fitted\"], label=\"Fitted Harmonic\", linestyle=\"--\")\n",
    "plt.xlabel(\"Date\")\n",
    "plt.ylabel(\"NDVI\")\n",
    "plt.title(\"Harmonic Regression Fit to NDVI Time Series\")\n",
    "plt.legend()\n",
    "plt.show()"
   ]
  },
  {
   "cell_type": "markdown",
   "id": "12",
   "metadata": {},
   "source": [
    "## Next Steps\n",
    "- Try different harmonic orders for more/less complex fits.\n",
    "- Use other bands or regions.\n",
    "- Explore phase and amplitude extraction for phenology analysis."
   ]
  }
 ],
 "metadata": {
  "language_info": {
   "name": "python"
  }
 },
 "nbformat": 4,
 "nbformat_minor": 5
}
