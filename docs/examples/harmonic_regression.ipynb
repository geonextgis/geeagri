{
 "cells": [
  {
   "cell_type": "markdown",
   "metadata": {},
   "source": [
    "<a href=\"https://githubtocolab.com/geonextgis/geeagri/blob/main/docs/examples/harmonic_regression.ipynb\" target=\"_parent\"><img src=\"https://colab.research.google.com/assets/colab-badge.svg\" alt=\"Open in Colab\"/></a>\n",
    "\n",
    "Uncomment the following line to install the latest version of [geeagri](https://geonextgis.github.io/geeagri) if needed."
   ]
  },
  {
   "cell_type": "code",
   "execution_count": null,
   "metadata": {},
   "outputs": [],
   "source": [
    "# !pip install -U geeagri"
   ]
  },
  {
   "cell_type": "markdown",
   "metadata": {},
   "source": [
    "## Import libraries"
   ]
  },
  {
   "cell_type": "code",
   "execution_count": null,
   "metadata": {},
   "outputs": [],
   "source": [
    "import ee\n",
    "import geemap\n",
    "from geeagri.analysis import HarmonicRegression\n",
    "from geeagri.preprocessing import Sentinel2CloudMask\n",
    "from geeagri.extract import extract_timeseries_to_point\n",
    "\n",
    "import matplotlib.pyplot as plt\n",
    "import seaborn as sns\n",
    "\n",
    "plt.rcParams[\"font.family\"] = \"DeJavu Serif\"\n",
    "plt.rcParams[\"font.serif\"] = \"Times New Roman\""
   ]
  },
  {
   "cell_type": "markdown",
   "metadata": {},
   "source": [
    "## Initialize a Map object\n",
    "Authenticate and initialize Earth Engine. If it doesn't work, specify a project name"
   ]
  },
  {
   "cell_type": "code",
   "execution_count": null,
   "metadata": {},
   "outputs": [],
   "source": [
    "# ee.Authenticate()\n",
    "# ee.Initialize(project='your-project-id')\n",
    "\n",
    "Map = geemap.Map(basemap='SATELLITE')\n",
    "Map"
   ]
  },
  {
   "cell_type": "markdown",
   "metadata": {},
   "source": [
    "## Import region of interest"
   ]
  },
  {
   "cell_type": "code",
   "execution_count": null,
   "metadata": {},
   "outputs": [],
   "source": [
    "bbox = [-98.451233, 38.430732, -98.274765, 38.523996]\n",
    "region = ee.Geometry.BBox(*bbox)\n",
    "region_style = {\"color\": \"red\", \"width\": 1}\n",
    "Map.addLayer(region, region_style, \"Region\")\n",
    "Map.centerObject(region, 13)"
   ]
  },
  {
   "cell_type": "markdown",
   "metadata": {},
   "source": [
    "## Import Cropland Data Layer (CDL)"
   ]
  },
  {
   "cell_type": "code",
   "execution_count": null,
   "metadata": {},
   "outputs": [],
   "source": [
    "croplandcover = (\n",
    "    ee.ImageCollection(\"USDA/NASS/CDL\")\n",
    "    .filterDate('2020-01-01', '2021-01-01')\n",
    "    .first()\n",
    "    .clip(region)\n",
    ")\n",
    "\n",
    "cultivated = croplandcover.select('cultivated').eq(2).selfMask()\n",
    "croplandcover = croplandcover.select('cropland')\n",
    "Map.addLayer(cultivated, {}, 'Cultivated')\n",
    "Map.addLayer(croplandcover, {}, 'Crop Landcover')"
   ]
  },
  {
   "cell_type": "markdown",
   "metadata": {},
   "source": [
    "## Load Sentinel-2 image collection and mask clouds and shadows"
   ]
  },
  {
   "cell_type": "code",
   "execution_count": null,
   "metadata": {},
   "outputs": [],
   "source": [
    "s2_cloud_masker = Sentinel2CloudMask(\n",
    "    region=region,\n",
    "    start_date='2020-01-01',\n",
    "    end_date='2021-01-01',\n",
    "    cloud_filter=60, # maximum scene-level cloudiness allowed (%)\n",
    "    cloud_prob_threshold=50, # cloud probability threshold (values above are considered clouds)\n",
    "    nir_dark_threshold=0.15, # NIR reflectance threshold (values below considered potential shadows)\n",
    "    shadow_proj_dist=1, # maximum distance (km) to search for shadows from clouds.\n",
    "    buffer=50 # buffer distance (m) to dilate cloud/shadow masks.\n",
    ")\n",
    "\n",
    "s2_cloud_masked = s2_cloud_masker.get_cloudfree_collection()"
   ]
  },
  {
   "cell_type": "markdown",
   "metadata": {},
   "source": [
    "## Calculate Normalized Difference Vegetation Index (NDVI)"
   ]
  },
  {
   "cell_type": "code",
   "execution_count": null,
   "metadata": {},
   "outputs": [],
   "source": [
    "def calculateNDVI(image):\n",
    "    ndvi = image.expression(\n",
    "        '(NIR - Red) / (NIR + Red)',\n",
    "        {\n",
    "            'NIR': image.select('B8'),\n",
    "            'Red': image.select('B4')\n",
    "        }\n",
    "    ).copyProperties(image, ['system:time_start'])\n",
    "\n",
    "    ndvi = ee.Image(ndvi).rename('ndvi').clip(region)\n",
    "\n",
    "    return ndvi\n",
    "\n",
    "ndvi_col = s2_cloud_masked.map(calculateNDVI)"
   ]
  },
  {
   "cell_type": "markdown",
   "metadata": {},
   "source": [
    "## Apply Harmonics"
   ]
  },
  {
   "cell_type": "code",
   "execution_count": null,
   "metadata": {},
   "outputs": [],
   "source": [
    "# Fit a 3rd order harmonic\n",
    "harmonics = HarmonicRegression(\n",
    "    image_collection=ndvi_col, \n",
    "    ref_date='2020-01-01', \n",
    "    band_name='ndvi',\n",
    "    order=3, \n",
    "    omega=1\n",
    ")\n",
    "\n",
    "# Get the harmonic coefficients\n",
    "harmonic_coeffs = harmonics.get_harmonic_coeffs()\n",
    "\n",
    "# Get the phase amplitude in an HSV image\n",
    "phase_amplitude_hsv = harmonics.get_phase_amplitude(\n",
    "    harmonic_coeffs, \n",
    "    cos_band='ndvi_cos_1', \n",
    "    sin_band='ndvi_sin_1',\n",
    "    hsv=True,\n",
    "    stretch_factor=5\n",
    ")\n",
    "Map.addLayer(phase_amplitude_hsv, {}, 'Phase (hue), Amplitude (sat), NDVI (val)')\n",
    "\n",
    "# Get the raw phase and amplitude image\n",
    "phase_amplitude = harmonics.get_phase_amplitude(\n",
    "    harmonic_coeffs, \n",
    "    cos_band='ndvi_cos_1', \n",
    "    sin_band='ndvi_sin_1',\n",
    "    hsv=False,\n",
    ")\n",
    "phase_vis = {'min': -3.10, 'max': 3.10, 'palette': ['#d73027','#f46d43','#fdae61','#fee08b','#d9ef8b','#a6d96a','#66bd63','#1a9850']}\n",
    "amplitude_vis = {'min': 0, 'max': 0.4, 'palette': ['#ffffe5','#f7fcb9','#d9f0a3','#addd8e','#78c679','#41ab5d','#238443','#005a32']}\n",
    "\n",
    "Map.addLayer(phase_amplitude.select('phase'), phase_vis, 'Phase (-π to π)')\n",
    "Map.addLayer(phase_amplitude.select('amplitude'), amplitude_vis, 'Amplitude')\n",
    "\n",
    "# Get fitted harmonics\n",
    "fitted_harmonics = harmonics.get_fitted_harmonics(harmonic_coeffs)"
   ]
  },
  {
   "cell_type": "markdown",
   "metadata": {},
   "source": [
    "## Plot the fitted harmonics for three crop samples"
   ]
  },
  {
   "cell_type": "code",
   "execution_count": null,
   "metadata": {},
   "outputs": [],
   "source": [
    "wheat_loc = (-98.39630126953126, 38.46931531751283)\n",
    "soybean_loc = (-98.34480285644533, 38.50022087618732)\n",
    "corn_loc = (-98.31716537475587, 38.496190467979176)\n",
    "\n",
    "wheat_ndvi = extract_timeseries_to_point(\n",
    "    lat=wheat_loc[1],\n",
    "    lon=wheat_loc[0],\n",
    "    image_collection=ndvi_col,\n",
    "    scale=10\n",
    ")\n",
    "soybean_ndvi = extract_timeseries_to_point(\n",
    "    lat=soybean_loc[1],\n",
    "    lon=soybean_loc[0],\n",
    "    image_collection=ndvi_col,\n",
    "    scale=10\n",
    ")\n",
    "corn_ndvi = extract_timeseries_to_point(\n",
    "    lat=corn_loc[1],\n",
    "    lon=corn_loc[0],\n",
    "    image_collection=ndvi_col,\n",
    "    scale=10\n",
    ")\n",
    "wheat_ndvi_fitted = extract_timeseries_to_point(\n",
    "    lat=wheat_loc[1],\n",
    "    lon=wheat_loc[0],\n",
    "    image_collection=fitted_harmonics,\n",
    "    scale=10\n",
    ")\n",
    "soybean_ndvi_fitted = extract_timeseries_to_point(\n",
    "    lat=soybean_loc[1],\n",
    "    lon=soybean_loc[0],\n",
    "    image_collection=fitted_harmonics,\n",
    "    scale=10\n",
    ")\n",
    "corn_ndvi_fitted = extract_timeseries_to_point(\n",
    "    lat=corn_loc[1],\n",
    "    lon=corn_loc[0],\n",
    "    image_collection=fitted_harmonics,\n",
    "    scale=10\n",
    ")"
   ]
  },
  {
   "cell_type": "code",
   "execution_count": null,
   "metadata": {},
   "outputs": [],
   "source": [
    "plt.figure(figsize=(12, 4))\n",
    "\n",
    "sns.lineplot(data=wheat_ndvi, x='time', y='ndvi', label='Wheat NDVI', alpha=0.5, c='#a87000',)\n",
    "sns.lineplot(data=wheat_ndvi_fitted, x='time', y='fitted', label='Wheat NDVI Fitted', c='#a87000', marker='o', markersize=5)\n",
    "\n",
    "sns.lineplot(data=soybean_ndvi, x='time', y='ndvi', label='Soybean NDVI', alpha=0.5, c='#267300',)\n",
    "sns.lineplot(data=soybean_ndvi_fitted, x='time', y='fitted', label='Soybean NDVI Fitted', c='#267300', marker='o', markersize=5)\n",
    "\n",
    "sns.lineplot(data=corn_ndvi, x='time', y='ndvi', label='Corn NDVI', alpha=0.5, c='#ffd400')\n",
    "sns.lineplot(data=corn_ndvi_fitted, x='time', y='fitted', label='Corn NDVI Fitted', c='#ffd400', marker='o', markersize=5)\n",
    "\n",
    "plt.title('3rd-Order Harmonic Fit of NDVI Time Series')\n",
    "plt.ylabel('NDVI')\n",
    "plt.show()"
   ]
  }
 ],
 "metadata": {
  "kernelspec": {
   "display_name": "geo",
   "language": "python",
   "name": "geo"
  },
  "language_info": {
   "codemirror_mode": {
    "name": "ipython",
    "version": 3
   },
   "file_extension": ".py",
   "mimetype": "text/x-python",
   "name": "python",
   "nbconvert_exporter": "python",
   "pygments_lexer": "ipython3",
   "version": "3.12.11"
  }
 },
 "nbformat": 4,
 "nbformat_minor": 2
}
