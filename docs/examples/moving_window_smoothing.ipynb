{
 "cells": [
  {
   "cell_type": "markdown",
   "metadata": {},
   "source": [
    "<a href=\"https://githubtocolab.com/geonextgis/geeagri/blob/main/docs/examples/moving_window_smoothing.ipynb\" target=\"_parent\"><img src=\"https://colab.research.google.com/assets/colab-badge.svg\" alt=\"Open in Colab\"/></a>\n",
    "\n",
    "Uncomment the following line to install the latest version of [geeagri](https://geonextgis.github.io/geeagri) if needed."
   ]
  },
  {
   "cell_type": "code",
   "execution_count": null,
   "metadata": {},
   "outputs": [],
   "source": [
    "# !pip install -U geeagri"
   ]
  },
  {
   "cell_type": "code",
   "execution_count": null,
   "metadata": {},
   "outputs": [],
   "source": [
    "import ee\n",
    "import geemap\n",
    "from geeagri.preprocessing import Sentinel2CloudMask, MovingWindowSmoothing\n",
    "from geeagri.extract import extract_timeseries_to_point\n",
    "\n",
    "import matplotlib.pyplot as plt\n",
    "import seaborn as sns\n",
    "\n",
    "from datetime import datetime\n",
    "\n",
    "plt.rcParams[\"font.family\"] = \"DeJavu Serif\"\n",
    "plt.rcParams[\"font.serif\"] = \"Times New Roman\""
   ]
  },
  {
   "cell_type": "markdown",
   "metadata": {},
   "source": [
    "## Initialize a Map object\n",
    "Authenticate and initialize Earth Engine. If it doesn't work, specify a project name"
   ]
  },
  {
   "cell_type": "code",
   "execution_count": null,
   "metadata": {},
   "outputs": [],
   "source": [
    "# ee.Authenticate()\n",
    "# ee.Initialize(project='your-project-id')\n",
    "\n",
    "Map = geemap.Map(basemap=\"SATELLITE\")\n",
    "Map"
   ]
  },
  {
   "cell_type": "markdown",
   "metadata": {},
   "source": [
    "## Import region of interest"
   ]
  },
  {
   "cell_type": "code",
   "execution_count": null,
   "metadata": {},
   "outputs": [],
   "source": [
    "bbox = [-98.451233, 38.430732, -98.274765, 38.523996]\n",
    "region = ee.Geometry.BBox(*bbox)\n",
    "region_style = {\"color\": \"red\", \"width\": 1}\n",
    "Map.addLayer(region, region_style, \"Region\")\n",
    "Map.centerObject(region, 13)"
   ]
  },
  {
   "cell_type": "markdown",
   "metadata": {},
   "source": [
    "## Import Cropland Data Layer (CDL)"
   ]
  },
  {
   "cell_type": "code",
   "execution_count": null,
   "metadata": {},
   "outputs": [],
   "source": [
    "croplandcover = (\n",
    "    ee.ImageCollection(\"USDA/NASS/CDL\")\n",
    "    .filterDate(\"2020-01-01\", \"2021-01-01\")\n",
    "    .first()\n",
    "    .clip(region)\n",
    ")\n",
    "\n",
    "cultivated = croplandcover.select(\"cultivated\").eq(2).selfMask()\n",
    "croplandcover = croplandcover.select(\"cropland\")\n",
    "Map.addLayer(cultivated, {}, \"Cultivated\")\n",
    "Map.addLayer(croplandcover, {}, \"Crop Landcover\")"
   ]
  },
  {
   "cell_type": "markdown",
   "metadata": {},
   "source": [
    "## Load Sentinel-2 image collection and mask clouds and shadows"
   ]
  },
  {
   "cell_type": "code",
   "execution_count": null,
   "metadata": {},
   "outputs": [],
   "source": [
    "s2_cloud_masker = Sentinel2CloudMask(\n",
    "    region=region,\n",
    "    start_date=\"2020-01-01\",\n",
    "    end_date=\"2021-01-01\",\n",
    "    cloud_filter=60,  # maximum scene-level cloudiness allowed (%)\n",
    "    cloud_prob_threshold=50,  # cloud probability threshold (values above are considered clouds)\n",
    "    nir_dark_threshold=0.15,  # NIR reflectance threshold (values below considered potential shadows)\n",
    "    shadow_proj_dist=1,  # maximum distance (km) to search for shadows from clouds.\n",
    "    buffer=50,  # buffer distance (m) to dilate cloud/shadow masks.\n",
    ")\n",
    "\n",
    "s2_cloud_masked = s2_cloud_masker.get_cloudfree_collection()"
   ]
  },
  {
   "cell_type": "markdown",
   "metadata": {},
   "source": [
    "## Calculate Normalized Difference Vegetation Index (NDVI)"
   ]
  },
  {
   "cell_type": "code",
   "execution_count": null,
   "metadata": {},
   "outputs": [],
   "source": [
    "def calculateNDVI(image):\n",
    "    ndvi = image.expression(\n",
    "        \"(NIR - Red) / (NIR + Red)\",\n",
    "        {\"NIR\": image.select(\"B8\"), \"Red\": image.select(\"B4\")},\n",
    "    ).copyProperties(image, [\"system:time_start\"])\n",
    "\n",
    "    ndvi = ee.Image(ndvi).rename(\"ndvi\").clip(region)\n",
    "\n",
    "    return ndvi\n",
    "\n",
    "ndvi_col = s2_cloud_masked.map(calculateNDVI)"
   ]
  },
  {
   "cell_type": "markdown",
   "metadata": {},
   "source": [
    "## Apply moving window smoothing"
   ]
  },
  {
   "cell_type": "code",
   "execution_count": null,
   "metadata": {},
   "outputs": [],
   "source": [
    "# Initialize the smoothing object\n",
    "smoother = MovingWindowSmoothing(\n",
    "    image_collection=ndvi_col,         # ee.ImageCollection of NDVI\n",
    "    window=15,                         # Temporal window in days\n",
    "    reducer=\"MEDIAN\"                   # Reducer for smoothing (\"MEAN\" or \"MEDIAN\")\n",
    ")\n",
    "\n",
    "# Apply the smoothing operation\n",
    "ndvi_smoothed = smoother.get_smoothed_collection()"
   ]
  },
  {
   "cell_type": "markdown",
   "metadata": {},
   "source": [
    "## Extract timelapse for both the image collection"
   ]
  },
  {
   "cell_type": "code",
   "execution_count": null,
   "metadata": {},
   "outputs": [],
   "source": [
    "video_args = {\n",
    "    'dimensions': 1000,\n",
    "    'region': region,\n",
    "    'framesPerSecond': 2,\n",
    "    'crs': 'EPSG:4326',\n",
    "    'min': -1,\n",
    "    'max': 1,\n",
    "    'palette': [\n",
    "        '#a50026','#d73027','#f46d43','#fdae61','#fee08b',\n",
    "        '#d9ef8b','#a6d96a','#66bd63','#1a9850','#006837'\n",
    "    ]\n",
    "}\n",
    "\n",
    "saved_ndvi_gif = 'ndvi.gif'\n",
    "geemap.download_ee_video(ndvi_col, video_args, saved_ndvi_gif)\n",
    "geemap.show_image(saved_ndvi_gif)"
   ]
  },
  {
   "cell_type": "code",
   "execution_count": null,
   "metadata": {},
   "outputs": [],
   "source": [
    "saved_ndvi_smoothed_gif = 'ndvi_smoothed.gif'\n",
    "geemap.download_ee_video(ndvi_smoothed, video_args, saved_ndvi_smoothed_gif)\n",
    "geemap.show_image(saved_ndvi_smoothed_gif)"
   ]
  },
  {
   "cell_type": "markdown",
   "metadata": {},
   "source": [
    "## Plot the smoothed NDVI for three crop samples"
   ]
  },
  {
   "cell_type": "code",
   "execution_count": null,
   "metadata": {},
   "outputs": [],
   "source": [
    "wheat_loc = (-98.39630126953126, 38.46931531751283)\n",
    "soybean_loc = (-98.34480285644533, 38.50022087618732)\n",
    "corn_loc = (-98.31716537475587, 38.496190467979176)\n",
    "\n",
    "wheat_ndvi = extract_timeseries_to_point(\n",
    "    lat=wheat_loc[1], lon=wheat_loc[0], image_collection=ndvi_col, scale=10\n",
    ")\n",
    "soybean_ndvi = extract_timeseries_to_point(\n",
    "    lat=soybean_loc[1], lon=soybean_loc[0], image_collection=ndvi_col, scale=10\n",
    ")\n",
    "corn_ndvi = extract_timeseries_to_point(\n",
    "    lat=corn_loc[1], lon=corn_loc[0], image_collection=ndvi_col, scale=10\n",
    ")\n",
    "wheat_ndvi_smoothed = extract_timeseries_to_point(\n",
    "    lat=wheat_loc[1], lon=wheat_loc[0], image_collection=ndvi_smoothed, scale=10\n",
    ")\n",
    "soybean_ndvi_smoothed = extract_timeseries_to_point(\n",
    "    lat=soybean_loc[1], lon=soybean_loc[0], image_collection=ndvi_smoothed, scale=10\n",
    ")\n",
    "corn_ndvi_smoothed = extract_timeseries_to_point(\n",
    "    lat=corn_loc[1], lon=corn_loc[0], image_collection=ndvi_smoothed, scale=10\n",
    ")"
   ]
  },
  {
   "cell_type": "code",
   "execution_count": null,
   "metadata": {},
   "outputs": [],
   "source": [
    "plt.figure(figsize=(12, 4))\n",
    "\n",
    "sns.lineplot(\n",
    "    data=wheat_ndvi,\n",
    "    x=\"time\",\n",
    "    y=\"ndvi\",\n",
    "    label=\"Wheat NDVI\",\n",
    "    alpha=0.5,\n",
    "    c=\"#a87000\",\n",
    ")\n",
    "sns.lineplot(\n",
    "    data=wheat_ndvi_smoothed,\n",
    "    x=\"time\",\n",
    "    y=\"ndvi_median\",\n",
    "    label=\"Wheat NDVI Smoothed\",\n",
    "    c=\"#a87000\",\n",
    "    marker=\"o\",\n",
    "    markersize=5,\n",
    ")\n",
    "\n",
    "sns.lineplot(\n",
    "    data=soybean_ndvi,\n",
    "    x=\"time\",\n",
    "    y=\"ndvi\",\n",
    "    label=\"Soybean NDVI\",\n",
    "    alpha=0.5,\n",
    "    c=\"#267300\",\n",
    ")\n",
    "sns.lineplot(\n",
    "    data=soybean_ndvi_smoothed,\n",
    "    x=\"time\",\n",
    "    y=\"ndvi_median\",\n",
    "    label=\"Soybean NDVI Smoothed\",\n",
    "    c=\"#267300\",\n",
    "    marker=\"o\",\n",
    "    markersize=5,\n",
    ")\n",
    "\n",
    "sns.lineplot(\n",
    "    data=corn_ndvi, \n",
    "    x=\"time\", \n",
    "    y=\"ndvi\", \n",
    "    label=\"Corn NDVI\", \n",
    "    alpha=0.5, \n",
    "    c=\"#ffd400\"\n",
    ")\n",
    "sns.lineplot(\n",
    "    data=corn_ndvi_smoothed,\n",
    "    x=\"time\",\n",
    "    y=\"ndvi_median\",\n",
    "    label=\"Corn NDVI Smoothed\",\n",
    "    c=\"#ffd400\",\n",
    "    marker=\"o\",\n",
    "    markersize=5,\n",
    ")\n",
    "\n",
    "plt.title(\"Moving Window Smoothing of NDVI Time Series\")\n",
    "plt.ylabel(\"NDVI\")\n",
    "plt.show()"
   ]
  }
 ],
 "metadata": {
  "kernelspec": {
   "display_name": "geo",
   "language": "python",
   "name": "geo"
  },
  "language_info": {
   "codemirror_mode": {
    "name": "ipython",
    "version": 3
   },
   "file_extension": ".py",
   "mimetype": "text/x-python",
   "name": "python",
   "nbconvert_exporter": "python",
   "pygments_lexer": "ipython3",
   "version": "3.12.11"
  }
 },
 "nbformat": 4,
 "nbformat_minor": 2
}
